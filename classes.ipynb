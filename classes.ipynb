{
 "cells": [
  {
   "cell_type": "markdown",
   "metadata": {},
   "source": [
    "## This notebook develops a classification model to determine the revenue class of a customer based on their monthly features.\n",
    "The dataset contains information about customers, including the following features::\n",
    "- reg_platform: The platform used for registration (website, mobile apps for different operating systems, landing pages).\n",
    "- used_promo: Whether the customer used a promo code during registration.\n",
    "- first_bet_sum: The amount of the first bet.\n",
    "- m_win_cnt_bet: The number of winning bets during the month.\n",
    "- m_lose_cnt_bet: The number of losing bets during the month.\n",
    "- m_turnover: The total turnover for the month.\n",
    "- m_revenue: The revenue generated for the month.\n",
    "- m_sum_dep: The total sum of deposits made during the month.\n",
    "- m_sum_out: The total sum of withdrawals made during the month.\n",
    "- m_cnt_dep: The number of deposits made during the month.\n",
    "- max_wins: The maximum number of consecutive winning bets.\n",
    "- first_day: The day of the week when the first bet was placed.\n",
    "- fbt_turnover: The ratio of the first bet amount to the monthly turnover.\n",
    "- revenue_class: The customer's revenue class (target variable).\n",
    "- revenue: The revenue generated over six months.\n"
   ]
  },
  {
   "cell_type": "code",
   "execution_count": null,
   "metadata": {},
   "outputs": [],
   "source": [
    "import pandas as pd\n",
    "import numpy as np\n",
    "import matplotlib.pyplot as plt\n",
    "import seaborn as sns\n",
    "from scipy.stats.mstats import winsorize\n",
    "from sklearn.pipeline import Pipeline\n",
    "from sklearn.preprocessing import OneHotEncoder, RobustScaler, PowerTransformer\n",
    "from sklearn.compose import ColumnTransformer\n",
    "from sklearn.preprocessing import QuantileTransformer\n",
    "from sklearn.ensemble import RandomForestClassifier\n",
    "from sklearn.model_selection import train_test_split\n",
    "from sklearn.metrics import accuracy_score\n",
    "import pickle\n"
   ]
  },
  {
   "cell_type": "code",
   "execution_count": 2,
   "metadata": {},
   "outputs": [
    {
     "data": {
      "text/html": [
       "<div>\n",
       "<style scoped>\n",
       "    .dataframe tbody tr th:only-of-type {\n",
       "        vertical-align: middle;\n",
       "    }\n",
       "\n",
       "    .dataframe tbody tr th {\n",
       "        vertical-align: top;\n",
       "    }\n",
       "\n",
       "    .dataframe thead th {\n",
       "        text-align: right;\n",
       "    }\n",
       "</style>\n",
       "<table border=\"1\" class=\"dataframe\">\n",
       "  <thead>\n",
       "    <tr style=\"text-align: right;\">\n",
       "      <th></th>\n",
       "      <th>uid</th>\n",
       "      <th>id</th>\n",
       "      <th>reg_platform</th>\n",
       "      <th>first_bet_date</th>\n",
       "      <th>used_promo</th>\n",
       "      <th>channel_final_name</th>\n",
       "      <th>revenue</th>\n",
       "      <th>first_bet_sum</th>\n",
       "      <th>m_win_cnt_bet</th>\n",
       "      <th>m_lose_cnt_bet</th>\n",
       "      <th>m_turnover</th>\n",
       "      <th>m_revenue</th>\n",
       "      <th>m_sum_dep</th>\n",
       "      <th>m_sum_out</th>\n",
       "      <th>m_cnt_dep</th>\n",
       "      <th>max_wins</th>\n",
       "    </tr>\n",
       "  </thead>\n",
       "  <tbody>\n",
       "    <tr>\n",
       "      <th>0</th>\n",
       "      <td>1.000830e+10</td>\n",
       "      <td>211AWWZGS3ZVJ</td>\n",
       "      <td>IOS</td>\n",
       "      <td>2024-02-12 14:49:56</td>\n",
       "      <td>0</td>\n",
       "      <td>Отсутствует ICM</td>\n",
       "      <td>400.00</td>\n",
       "      <td>100.0</td>\n",
       "      <td>3.0</td>\n",
       "      <td>7.0</td>\n",
       "      <td>997.0</td>\n",
       "      <td>400.00</td>\n",
       "      <td>400.0</td>\n",
       "      <td>0.0</td>\n",
       "      <td>2.0</td>\n",
       "      <td>1</td>\n",
       "    </tr>\n",
       "    <tr>\n",
       "      <th>1</th>\n",
       "      <td>1.000737e+10</td>\n",
       "      <td>211EGWCH8OK6S</td>\n",
       "      <td>Site</td>\n",
       "      <td>2023-07-28 22:30:40</td>\n",
       "      <td>0</td>\n",
       "      <td>direct</td>\n",
       "      <td>-1588.00</td>\n",
       "      <td>500.0</td>\n",
       "      <td>7.0</td>\n",
       "      <td>4.0</td>\n",
       "      <td>7400.0</td>\n",
       "      <td>-1588.00</td>\n",
       "      <td>3000.0</td>\n",
       "      <td>0.0</td>\n",
       "      <td>1.0</td>\n",
       "      <td>3</td>\n",
       "    </tr>\n",
       "    <tr>\n",
       "      <th>2</th>\n",
       "      <td>1.000748e+10</td>\n",
       "      <td>211HN4YMIHB4J</td>\n",
       "      <td>MobileSite</td>\n",
       "      <td>2023-10-28 08:52:49</td>\n",
       "      <td>0</td>\n",
       "      <td>Отсутствует ICM</td>\n",
       "      <td>-4530.00</td>\n",
       "      <td>1300.0</td>\n",
       "      <td>3.0</td>\n",
       "      <td>2.0</td>\n",
       "      <td>5750.0</td>\n",
       "      <td>-4530.00</td>\n",
       "      <td>5000.0</td>\n",
       "      <td>9530.0</td>\n",
       "      <td>1.0</td>\n",
       "      <td>2</td>\n",
       "    </tr>\n",
       "    <tr>\n",
       "      <th>3</th>\n",
       "      <td>1.000833e+10</td>\n",
       "      <td>211KCDHPUUXRW</td>\n",
       "      <td>Android</td>\n",
       "      <td>2024-03-07 19:52:37</td>\n",
       "      <td>0</td>\n",
       "      <td>Отсутствует ICM</td>\n",
       "      <td>-885.83</td>\n",
       "      <td>115.0</td>\n",
       "      <td>2.0</td>\n",
       "      <td>6.0</td>\n",
       "      <td>668.0</td>\n",
       "      <td>-885.83</td>\n",
       "      <td>115.0</td>\n",
       "      <td>1000.0</td>\n",
       "      <td>1.0</td>\n",
       "      <td>1</td>\n",
       "    </tr>\n",
       "    <tr>\n",
       "      <th>4</th>\n",
       "      <td>1.000755e+10</td>\n",
       "      <td>211LE8B3PSPEW</td>\n",
       "      <td>MobileSite</td>\n",
       "      <td>2023-12-21 20:00:11</td>\n",
       "      <td>0</td>\n",
       "      <td>CPA</td>\n",
       "      <td>939.50</td>\n",
       "      <td>800.0</td>\n",
       "      <td>2.0</td>\n",
       "      <td>2.0</td>\n",
       "      <td>3850.0</td>\n",
       "      <td>939.50</td>\n",
       "      <td>3850.0</td>\n",
       "      <td>2910.0</td>\n",
       "      <td>4.0</td>\n",
       "      <td>1</td>\n",
       "    </tr>\n",
       "  </tbody>\n",
       "</table>\n",
       "</div>"
      ],
      "text/plain": [
       "            uid             id reg_platform       first_bet_date  used_promo  \\\n",
       "0  1.000830e+10  211AWWZGS3ZVJ          IOS  2024-02-12 14:49:56           0   \n",
       "1  1.000737e+10  211EGWCH8OK6S         Site  2023-07-28 22:30:40           0   \n",
       "2  1.000748e+10  211HN4YMIHB4J   MobileSite  2023-10-28 08:52:49           0   \n",
       "3  1.000833e+10  211KCDHPUUXRW      Android  2024-03-07 19:52:37           0   \n",
       "4  1.000755e+10  211LE8B3PSPEW   MobileSite  2023-12-21 20:00:11           0   \n",
       "\n",
       "  channel_final_name  revenue  first_bet_sum  m_win_cnt_bet  m_lose_cnt_bet  \\\n",
       "0    Отсутствует ICM   400.00          100.0            3.0             7.0   \n",
       "1             direct -1588.00          500.0            7.0             4.0   \n",
       "2    Отсутствует ICM -4530.00         1300.0            3.0             2.0   \n",
       "3    Отсутствует ICM  -885.83          115.0            2.0             6.0   \n",
       "4                CPA   939.50          800.0            2.0             2.0   \n",
       "\n",
       "   m_turnover  m_revenue  m_sum_dep  m_sum_out  m_cnt_dep  max_wins  \n",
       "0       997.0     400.00      400.0        0.0        2.0         1  \n",
       "1      7400.0   -1588.00     3000.0        0.0        1.0         3  \n",
       "2      5750.0   -4530.00     5000.0     9530.0        1.0         2  \n",
       "3       668.0    -885.83      115.0     1000.0        1.0         1  \n",
       "4      3850.0     939.50     3850.0     2910.0        4.0         1  "
      ]
     },
     "execution_count": 2,
     "metadata": {},
     "output_type": "execute_result"
    }
   ],
   "source": [
    "clients = pd.read_csv('20092023.csv')\n",
    "st = pd.read_csv('wins_in_row_2023.csv')\n",
    "\n",
    "st = st.rename(columns={\"id_account\": \"id\"})\n",
    "df = pd.merge(clients, st, on=\"id\")\n",
    "df.head()"
   ]
  },
  {
   "cell_type": "code",
   "execution_count": 18,
   "metadata": {},
   "outputs": [
    {
     "data": {
      "text/plain": [
       "uid                          float64\n",
       "id                            object\n",
       "reg_platform                  object\n",
       "first_bet_date        datetime64[ns]\n",
       "used_promo                     int64\n",
       "channel_final_name            object\n",
       "revenue                      float64\n",
       "first_bet_sum                float64\n",
       "m_win_cnt_bet                float64\n",
       "m_lose_cnt_bet               float64\n",
       "m_turnover                   float64\n",
       "m_revenue                    float64\n",
       "m_sum_dep                    float64\n",
       "m_sum_out                    float64\n",
       "m_cnt_dep                    float64\n",
       "max_wins                       int64\n",
       "dtype: object"
      ]
     },
     "execution_count": 18,
     "metadata": {},
     "output_type": "execute_result"
    }
   ],
   "source": [
    "df['first_bet_date'] = pd.to_datetime(df['first_bet_date'])\n",
    "df.dtypes"
   ]
  },
  {
   "cell_type": "code",
   "execution_count": 19,
   "metadata": {
    "collapsed": true
   },
   "outputs": [],
   "source": [
    "# getting the day of the week on which the client performed the first action\n",
    "\n",
    "df['first_day'] = df['first_bet_date'].dt.dayofweek"
   ]
  },
  {
   "cell_type": "code",
   "execution_count": 20,
   "metadata": {
    "collapsed": true
   },
   "outputs": [],
   "source": [
    "# clearing categorical data values\n",
    "\n",
    "df['reg_platform'] = df['reg_platform'].str.replace('Windows', 'Site')"
   ]
  },
  {
   "cell_type": "code",
   "execution_count": 21,
   "metadata": {
    "collapsed": true
   },
   "outputs": [],
   "source": [
    "cfn = ['Отсутствует ICM', 'Тип ICM не указан', 'CPM', 'CPA', 'direct', 'organic', 'smm']\n",
    "\n",
    "no_icm = \"Отсутствует|нет в справочнике\"\n",
    "no_type = \"не указан\"\n",
    "cpm = \"CPM\"\n",
    "cpa = \"CPA\"\n",
    "direct = \"direct|Email|seo\"\n",
    "organic = \"organic|other\"\n",
    "smm = \"smm\"\n",
    "\n",
    "conditions = [\n",
    "    (df['channel_final_name'].str.contains(no_icm)),\n",
    "    (df['channel_final_name'].str.contains(no_type)),\n",
    "    (df['channel_final_name'].str.contains(cpm)),\n",
    "    (df['channel_final_name'].str.contains(cpa)),\n",
    "    (df['channel_final_name'].str.contains(direct)),\n",
    "    (df['channel_final_name'].str.contains(organic)),\n",
    "    (df['channel_final_name'].str.contains(smm))\n",
    "]\n",
    "\n",
    "df['channel'] = np.select(conditions, cfn, default='other')"
   ]
  },
  {
   "cell_type": "code",
   "execution_count": 22,
   "metadata": {
    "collapsed": true
   },
   "outputs": [],
   "source": [
    "# dropping unnecessary columns\n",
    "\n",
    "df = df.drop(columns=['channel_final_name', 'uid', 'id', 'first_bet_date'])"
   ]
  },
  {
   "cell_type": "code",
   "execution_count": 23,
   "metadata": {
    "collapsed": true
   },
   "outputs": [],
   "source": [
    "# creating new feature\n",
    "\n",
    "df['fbt_turnover'] = df['m_turnover'] / df['first_bet_sum']"
   ]
  },
  {
   "cell_type": "code",
   "execution_count": 24,
   "metadata": {
    "collapsed": true
   },
   "outputs": [],
   "source": [
    "# creating revenue bins based on the distribution of values that we studied in the EDA notebook: \n",
    "\n",
    "df['revenue_class'] = pd.cut(df['revenue'], bins=[-float('inf'), 0, 10000, 50000, float('inf')], labels=[0, 1, 2, 3])"
   ]
  },
  {
   "cell_type": "code",
   "execution_count": 25,
   "metadata": {},
   "outputs": [
    {
     "data": {
      "image/png": "[encoded data removed]",
      "text/plain": [
       "<Figure size 640x480 with 1 Axes>"
      ]
     },
     "metadata": {},
     "output_type": "display_data"
    }
   ],
   "source": [
    "# Using a histogram, checking the number of clients in each class.\n",
    "\n",
    "sns.countplot(data = df, x='revenue_class')\n",
    "plt.show()"
   ]
  },
  {
   "cell_type": "markdown",
   "metadata": {},
   "source": [
    "Applying winsorization - a technique where we cap the extreme values in the data at a certain percentile, which helps to reduce the influence of outliers without removing them. \n"
   ]
  },
  {
   "cell_type": "code",
   "execution_count": 26,
   "metadata": {
    "collapsed": true
   },
   "outputs": [],
   "source": [
    "columns_to_winsorize = ['revenue']\n",
    "\n",
    "for col in columns_to_winsorize:\n",
    "    # Winsorizing by capping 0.7% on each end\n",
    "    df[col] = winsorize(df[col], limits=[0.007, 0.007])"
   ]
  },
  {
   "cell_type": "code",
   "execution_count": 27,
   "metadata": {},
   "outputs": [
    {
     "name": "stdout",
     "output_type": "stream",
     "text": [
      "587562.0 -87373.1\n"
     ]
    }
   ],
   "source": [
    "print(df['revenue'].max(), df['revenue'].min())"
   ]
  },
  {
   "cell_type": "code",
   "execution_count": 14,
   "metadata": {},
   "outputs": [
    {
     "data": {
      "text/plain": [
       "(array([ 2499., 66474.,  1883.,   672.,   371.,   243.,   165.,   124.,\n",
       "           78.,   586.]),\n",
       " array([-87373.1 , -19879.59,  47613.92, 115107.43, 182600.94, 250094.45,\n",
       "        317587.96, 385081.47, 452574.98, 520068.49, 587562.  ]),\n",
       " <BarContainer object of 10 artists>)"
      ]
     },
     "execution_count": 14,
     "metadata": {},
     "output_type": "execute_result"
    },
    {
     "data": {
      "image/png": "[encoded data removed]",
      "text/plain": [
       "<Figure size 640x480 with 1 Axes>"
      ]
     },
     "metadata": {},
     "output_type": "display_data"
    }
   ],
   "source": [
    "#  checkong target distribution\n",
    "\n",
    "plt.hist(df['revenue'])"
   ]
  },
  {
   "cell_type": "markdown",
   "metadata": {},
   "source": [
    "Next, we will begin data preprocessing. A ColumnTransformer is used to process categorical and numerical features separately. For categorical features, a OneHotEncoder is applied, while for numerical features, both RobustScaler and PowerTransformer are utilized.\n",
    "\n",
    "The histogram reveals a highly skewed distribution of revenue, which can negatively impact model performance.\n",
    "\n",
    "- For such data, transformation techniques can be applied. Classical options like logarithmic transformation and the more flexible Box-Cox transformation are unsuitable because they cannot handle negative values, and our dataset includes negative revenue values.\n",
    "- The Yeo-Johnson transformation, however, extends normalization capabilities to any range of values.\n",
    "- The features exhibit distributions similar to the target variable (also highly skewed with rare large values). Therefore, both the features and the target variable require transformation.\n",
    "\n",
    "I will transform the numerical features and then analyze the distribution of the target variable before and after the transformation."
   ]
  },
  {
   "cell_type": "code",
   "execution_count": 3,
   "metadata": {},
   "outputs": [
    {
     "ename": "NameError",
     "evalue": "name 'PowerTransformer' is not defined",
     "output_type": "error",
     "traceback": [
      "\u001b[0;31m---------------------------------------------------------------------------\u001b[0m",
      "\u001b[0;31mNameError\u001b[0m                                 Traceback (most recent call last)",
      "\u001b[0;32m<ipython-input-3-2ba96e8ffd2f>\u001b[0m in \u001b[0;36m<module>\u001b[0;34m()\u001b[0m\n\u001b[1;32m      7\u001b[0m ]\n\u001b[1;32m      8\u001b[0m \u001b[0;34m\u001b[0m\u001b[0m\n\u001b[0;32m----> 9\u001b[0;31m \u001b[0mpower_transformer\u001b[0m \u001b[0;34m=\u001b[0m \u001b[0mPowerTransformer\u001b[0m\u001b[0;34m(\u001b[0m\u001b[0mmethod\u001b[0m\u001b[0;34m=\u001b[0m\u001b[0;34m'yeo-johnson'\u001b[0m\u001b[0;34m,\u001b[0m \u001b[0mstandardize\u001b[0m\u001b[0;34m=\u001b[0m\u001b[0;32mFalse\u001b[0m\u001b[0;34m)\u001b[0m\u001b[0;34m\u001b[0m\u001b[0m\n\u001b[0m\u001b[1;32m     10\u001b[0m \u001b[0mdf_transformed\u001b[0m\u001b[0;34m[\u001b[0m\u001b[0mnumeric_features\u001b[0m\u001b[0;34m]\u001b[0m \u001b[0;34m=\u001b[0m \u001b[0mpower_transformer\u001b[0m\u001b[0;34m.\u001b[0m\u001b[0mfit_transform\u001b[0m\u001b[0;34m(\u001b[0m\u001b[0mdf_transformed\u001b[0m\u001b[0;34m[\u001b[0m\u001b[0mnumeric_features\u001b[0m\u001b[0;34m]\u001b[0m\u001b[0;34m)\u001b[0m\u001b[0;34m\u001b[0m\u001b[0m\n",
      "\u001b[0;31mNameError\u001b[0m: name 'PowerTransformer' is not defined"
     ]
    }
   ],
   "source": [
    "df_transformed = df.copy()\n",
    "\n",
    "numeric_features = [\n",
    "    'used_promo', 'first_bet_sum', 'm_win_cnt_bet', 'm_lose_cnt_bet', \n",
    "    'm_turnover', 'm_revenue', 'm_sum_dep', 'm_sum_out', 'm_cnt_dep', \n",
    "    'max_wins', 'first_day', 'fbt_turnover'\n",
    "]\n",
    "\n",
    "power_transformer = PowerTransformer(method='yeo-johnson', standardize=False)\n",
    "df_transformed[numeric_features] = power_transformer.fit_transform(df_transformed[numeric_features])"
   ]
  },
  {
   "cell_type": "code",
   "execution_count": null,
   "metadata": {},
   "outputs": [
    {
     "data": {
      "image/png": "[encoded data removed]",
      "text/plain": [
       "<Figure size 1200x600 with 2 Axes>"
      ]
     },
     "metadata": {},
     "output_type": "display_data"
    }
   ],
   "source": [
    "plt.figure(figsize=(12, 6))\n",
    "\n",
    "# Original distribution\n",
    "plt.subplot(1, 2, 1)\n",
    "sns.histplot(df_transformed['revenue'], kde=True)\n",
    "plt.title('Transformed Revenue Distribution')\n",
    "\n",
    "# Transformed distribution\n",
    "plt.subplot(1, 2, 2)\n",
    "sns.histplot(df_transformed['revenue'], kde=True)\n",
    "plt.title('Transformed First Bet Sum Distribution')\n",
    "\n",
    "plt.show()"
   ]
  },
  {
   "cell_type": "markdown",
   "metadata": {},
   "source": [
    "Next, we will create a pipeline to train various classifiers. Among them, we will select the one that delivers the best performance on our data."
   ]
  },
  {
   "cell_type": "code",
   "execution_count": 31,
   "metadata": {
    "collapsed": true
   },
   "outputs": [],
   "source": [
    "categorical_features = ['reg_platform', 'used_promo']\n",
    "numerical_features = ['first_bet_sum', 'm_turnover', 'm_revenue', 'm_sum_dep', 'max_wins']\n",
    "\n",
    "# Proprocessor includes  RobustScaler, OneHotEncoder, PowerTransformer\n",
    "preprocessor = ColumnTransformer(\n",
    "    transformers=[\n",
    "        ('num', Pipeline(steps=[\n",
    "            ('scaler', RobustScaler()), \n",
    "            ('power', PowerTransformer(method='yeo-johnson'))\n",
    "        ]), numerical_features),  # Numerical: RobustScaler + PowerTransformer\n",
    "        ('cat', OneHotEncoder(handle_unknown='ignore'), categorical_features)  # Categorical: OneHotEncoder\n",
    "    ]\n",
    ")"
   ]
  },
  {
   "cell_type": "code",
   "execution_count": 32,
   "metadata": {
    "collapsed": true
   },
   "outputs": [],
   "source": [
    "pipeline = Pipeline(steps=[\n",
    "    ('preprocessor', preprocessor),\n",
    "    ('classifier', RandomForestClassifier(random_state=42))  # final classificator\n",
    "])"
   ]
  },
  {
   "cell_type": "code",
   "execution_count": 33,
   "metadata": {
    "collapsed": true
   },
   "outputs": [],
   "source": [
    "from sklearn.model_selection import GridSearchCV\n",
    "from sklearn.ensemble import RandomForestClassifier\n",
    "from sklearn.svm import SVC\n",
    "from sklearn.linear_model import LogisticRegression\n",
    "from xgboost import XGBClassifier"
   ]
  },
  {
   "cell_type": "code",
   "execution_count": 34,
   "metadata": {
    "collapsed": true
   },
   "outputs": [],
   "source": [
    "# Separating the features and the target variable, while also removing the \"revenue_180\" column from the features, as it was used to assign the class labels.\n",
    "X = df.drop(columns=['revenue', 'revenue_class'])\n",
    "y = df['revenue_class']\n",
    "\n",
    "X_train, X_test, y_train, y_test = train_test_split(X, y, test_size=0.2, random_state=42)"
   ]
  },
  {
   "cell_type": "code",
   "execution_count": null,
   "metadata": {},
   "outputs": [
    {
     "name": "stdout",
     "output_type": "stream",
     "text": [
      "Fitting 5 folds for each of 26 candidates, totalling 130 fits\n",
      "Best parameters: {'classifier': RandomForestClassifier(random_state=42), 'classifier__max_depth': 10, 'classifier__n_estimators': 200}\n",
      "Best cross-validation accuracy: 0.8779840833098902\n"
     ]
    }
   ],
   "source": [
    "# hyperparams grid\n",
    "param_grid = [\n",
    "    {\n",
    "        'classifier': [RandomForestClassifier(random_state=42)],\n",
    "        'classifier__n_estimators': [100, 200, 300],\n",
    "        'classifier__max_depth': [10, 20, 30]\n",
    "    },\n",
    "    {\n",
    "        'classifier': [SVC()],\n",
    "        'classifier__C': [0.1, 1, 10],\n",
    "        'classifier__kernel': ['linear', 'rbf']\n",
    "    },\n",
    "    {\n",
    "        'classifier': [LogisticRegression(max_iter=1000, random_state=42)],\n",
    "        'classifier__C': [0.1, 1, 10]\n",
    "    },\n",
    "    {\n",
    "        'classifier': [XGBClassifier(use_label_encoder=False, eval_metric='logloss', random_state=42)],\n",
    "        'classifier__n_estimators': [100, 200],\n",
    "        'classifier__max_depth': [3, 5],\n",
    "        'classifier__learning_rate': [0.01, 0.1]\n",
    "    }\n",
    "]\n",
    "\n",
    "grid_search = GridSearchCV(pipeline, param_grid, cv=5, scoring='accuracy', n_jobs=-1, verbose=2)\n",
    "\n",
    "grid_search.fit(X_train, y_train)\n",
    "\n",
    "print(\"Best parameters:\", grid_search.best_params_)\n",
    "print(\"Best cross-validation accuracy:\", grid_search.best_score_)"
   ]
  },
  {
   "cell_type": "markdown",
   "metadata": {},
   "source": [
    "Saving model and preprocessor for future use"
   ]
  },
  {
   "cell_type": "code",
   "execution_count": 57,
   "metadata": {
    "collapsed": true
   },
   "outputs": [],
   "source": [
    "with open('preprocessor_class.pkl', 'wb') as f:\n",
    "    pickle.dump(preprocessor, f)"
   ]
  },
  {
   "cell_type": "code",
   "execution_count": null,
   "metadata": {
    "collapsed": true
   },
   "outputs": [],
   "source": [
    "with open('best_classifier_pipeline.pkl', 'wb') as f:\n",
    "    pickle.dump(grid_search.best_estimator_, f)"
   ]
  },
  {
   "cell_type": "markdown",
   "metadata": {},
   "source": [
    "Slicing dataset with 1st class revenue clients for regression model"
   ]
  },
  {
   "cell_type": "code",
   "execution_count": null,
   "metadata": {
    "collapsed": true
   },
   "outputs": [],
   "source": [
    "class_0_df = df[df['revenue_class'] == 1]\n",
    "class_0_df = class_0_df.drop(columns=['revenue_class'])\n",
    "class_0_df.to_csv('class_1_df.csv', index=False)"
   ]
  }
 ],
 "metadata": {
  "kernelspec": {
   "display_name": "Python 3",
   "language": "python",
   "name": "python3"
  },
  "language_info": {
   "codemirror_mode": {
    "name": "ipython",
    "version": 3
   },
   "file_extension": ".py",
   "mimetype": "text/x-python",
   "name": "python",
   "nbconvert_exporter": "python",
   "pygments_lexer": "ipython3",
   "version": "3.6.3"
  }
 },
 "nbformat": 4,
 "nbformat_minor": 2
}
