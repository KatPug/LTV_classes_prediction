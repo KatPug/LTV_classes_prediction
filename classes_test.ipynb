{
 "cells": [
  {
   "cell_type": "markdown",
   "metadata": {},
   "source": [
    "\n",
    "In this notebook, the saved classifier will be applied to a new dataset that has been preprocessed in the same way as the training dataset."
   ]
  },
  {
   "cell_type": "code",
   "execution_count": 1,
   "metadata": {
    "collapsed": true
   },
   "outputs": [],
   "source": [
    "import pandas as pd\n",
    "import numpy as np\n",
    "import matplotlib.pyplot as plt\n",
    "import seaborn as sns\n",
    "from scipy.stats.mstats import winsorize\n",
    "from sklearn.pipeline import Pipeline\n",
    "from sklearn.preprocessing import OneHotEncoder, RobustScaler, PowerTransformer\n",
    "from sklearn.compose import ColumnTransformer\n",
    "from sklearn.ensemble import RandomForestClassifier\n",
    "from sklearn.model_selection import train_test_split\n",
    "from sklearn.metrics import accuracy_score\n",
    "import pickle"
   ]
  },
  {
   "cell_type": "code",
   "execution_count": 2,
   "metadata": {},
   "outputs": [
    {
     "data": {
      "text/html": [
       "<div>\n",
       "<style scoped>\n",
       "    .dataframe tbody tr th:only-of-type {\n",
       "        vertical-align: middle;\n",
       "    }\n",
       "\n",
       "    .dataframe tbody tr th {\n",
       "        vertical-align: top;\n",
       "    }\n",
       "\n",
       "    .dataframe thead th {\n",
       "        text-align: right;\n",
       "    }\n",
       "</style>\n",
       "<table border=\"1\" class=\"dataframe\">\n",
       "  <thead>\n",
       "    <tr style=\"text-align: right;\">\n",
       "      <th></th>\n",
       "      <th>uid</th>\n",
       "      <th>id</th>\n",
       "      <th>reg_platform</th>\n",
       "      <th>first_bet_date</th>\n",
       "      <th>used_promo</th>\n",
       "      <th>channel_final_name</th>\n",
       "      <th>revenue</th>\n",
       "      <th>first_bet_sum</th>\n",
       "      <th>m_win_cnt_bet</th>\n",
       "      <th>m_lose_cnt_bet</th>\n",
       "      <th>m_turnover</th>\n",
       "      <th>m_revenue</th>\n",
       "      <th>m_sum_dep</th>\n",
       "      <th>m_sum_out</th>\n",
       "      <th>m_cnt_dep</th>\n",
       "      <th>max</th>\n",
       "    </tr>\n",
       "  </thead>\n",
       "  <tbody>\n",
       "    <tr>\n",
       "      <th>0</th>\n",
       "      <td>1.000839e+10</td>\n",
       "      <td>213E5A35VSNXI</td>\n",
       "      <td>MobileSite</td>\n",
       "      <td>2024-04-13 19:35:28</td>\n",
       "      <td>0</td>\n",
       "      <td>direct</td>\n",
       "      <td>131777.27</td>\n",
       "      <td>2000.0</td>\n",
       "      <td>43.0</td>\n",
       "      <td>140.0</td>\n",
       "      <td>217124.41</td>\n",
       "      <td>131777.27</td>\n",
       "      <td>161959.0</td>\n",
       "      <td>30181.0</td>\n",
       "      <td>69.0</td>\n",
       "      <td>1</td>\n",
       "    </tr>\n",
       "    <tr>\n",
       "      <th>1</th>\n",
       "      <td>1.000838e+10</td>\n",
       "      <td>216N59IXPYIC</td>\n",
       "      <td>MobileSite</td>\n",
       "      <td>2024-04-11 09:57:10</td>\n",
       "      <td>1</td>\n",
       "      <td>CPA</td>\n",
       "      <td>22545.00</td>\n",
       "      <td>3000.0</td>\n",
       "      <td>15.0</td>\n",
       "      <td>53.0</td>\n",
       "      <td>86176.50</td>\n",
       "      <td>22545.00</td>\n",
       "      <td>61305.0</td>\n",
       "      <td>38760.0</td>\n",
       "      <td>22.0</td>\n",
       "      <td>1</td>\n",
       "    </tr>\n",
       "    <tr>\n",
       "      <th>2</th>\n",
       "      <td>1.000838e+10</td>\n",
       "      <td>217EWJG2K7T67</td>\n",
       "      <td>IOS</td>\n",
       "      <td>2024-04-10 13:53:14</td>\n",
       "      <td>1</td>\n",
       "      <td>CPM</td>\n",
       "      <td>2000.00</td>\n",
       "      <td>2000.0</td>\n",
       "      <td>0.0</td>\n",
       "      <td>1.0</td>\n",
       "      <td>2000.00</td>\n",
       "      <td>2000.00</td>\n",
       "      <td>2000.0</td>\n",
       "      <td>0.0</td>\n",
       "      <td>1.0</td>\n",
       "      <td>0</td>\n",
       "    </tr>\n",
       "    <tr>\n",
       "      <th>3</th>\n",
       "      <td>1.000839e+10</td>\n",
       "      <td>21GLRSEQVZPPJ</td>\n",
       "      <td>MobileSite</td>\n",
       "      <td>2024-04-13 12:16:50</td>\n",
       "      <td>0</td>\n",
       "      <td>direct</td>\n",
       "      <td>4999.79</td>\n",
       "      <td>500.0</td>\n",
       "      <td>3.0</td>\n",
       "      <td>7.0</td>\n",
       "      <td>8500.00</td>\n",
       "      <td>4985.00</td>\n",
       "      <td>5000.0</td>\n",
       "      <td>0.0</td>\n",
       "      <td>1.0</td>\n",
       "      <td>1</td>\n",
       "    </tr>\n",
       "    <tr>\n",
       "      <th>4</th>\n",
       "      <td>1.000838e+10</td>\n",
       "      <td>21IF7VL8YLIVG</td>\n",
       "      <td>IOS</td>\n",
       "      <td>2024-04-12 14:30:30</td>\n",
       "      <td>1</td>\n",
       "      <td>Отсутствует ICM</td>\n",
       "      <td>214100.00</td>\n",
       "      <td>100.0</td>\n",
       "      <td>0.0</td>\n",
       "      <td>1.0</td>\n",
       "      <td>100.00</td>\n",
       "      <td>100.00</td>\n",
       "      <td>100.0</td>\n",
       "      <td>0.0</td>\n",
       "      <td>1.0</td>\n",
       "      <td>0</td>\n",
       "    </tr>\n",
       "  </tbody>\n",
       "</table>\n",
       "</div>"
      ],
      "text/plain": [
       "            uid             id reg_platform       first_bet_date  used_promo  \\\n",
       "0  1.000839e+10  213E5A35VSNXI   MobileSite  2024-04-13 19:35:28           0   \n",
       "1  1.000838e+10   216N59IXPYIC   MobileSite  2024-04-11 09:57:10           1   \n",
       "2  1.000838e+10  217EWJG2K7T67          IOS  2024-04-10 13:53:14           1   \n",
       "3  1.000839e+10  21GLRSEQVZPPJ   MobileSite  2024-04-13 12:16:50           0   \n",
       "4  1.000838e+10  21IF7VL8YLIVG          IOS  2024-04-12 14:30:30           1   \n",
       "\n",
       "  channel_final_name    revenue  first_bet_sum  m_win_cnt_bet  m_lose_cnt_bet  \\\n",
       "0             direct  131777.27         2000.0           43.0           140.0   \n",
       "1                CPA   22545.00         3000.0           15.0            53.0   \n",
       "2                CPM    2000.00         2000.0            0.0             1.0   \n",
       "3             direct    4999.79          500.0            3.0             7.0   \n",
       "4    Отсутствует ICM  214100.00          100.0            0.0             1.0   \n",
       "\n",
       "   m_turnover  m_revenue  m_sum_dep  m_sum_out  m_cnt_dep  max  \n",
       "0   217124.41  131777.27   161959.0    30181.0       69.0    1  \n",
       "1    86176.50   22545.00    61305.0    38760.0       22.0    1  \n",
       "2     2000.00    2000.00     2000.0        0.0        1.0    0  \n",
       "3     8500.00    4985.00     5000.0        0.0        1.0    1  \n",
       "4      100.00     100.00      100.0        0.0        1.0    0  "
      ]
     },
     "execution_count": 2,
     "metadata": {},
     "output_type": "execute_result"
    }
   ],
   "source": [
    "clients = pd.read_csv('test_20092023.csv')\n",
    "st = pd.read_csv('test_20092023_stax.csv')\n",
    "\n",
    "st = st.rename(columns={\"id_account\": \"id\"})\n",
    "df = pd.merge(clients, st, on=\"id\")\n",
    "\n",
    "df.head()"
   ]
  },
  {
   "cell_type": "code",
   "execution_count": 3,
   "metadata": {
    "collapsed": true
   },
   "outputs": [],
   "source": [
    "df = df.rename(columns={\"max\": \"max_wins\"})"
   ]
  },
  {
   "cell_type": "code",
   "execution_count": 4,
   "metadata": {
    "collapsed": true
   },
   "outputs": [],
   "source": [
    "df['first_bet_date'] = pd.to_datetime(df['first_bet_date'])"
   ]
  },
  {
   "cell_type": "code",
   "execution_count": 5,
   "metadata": {
    "collapsed": true
   },
   "outputs": [],
   "source": [
    "df['first_day'] = df['first_bet_date'].dt.dayofweek"
   ]
  },
  {
   "cell_type": "code",
   "execution_count": 6,
   "metadata": {
    "collapsed": true
   },
   "outputs": [],
   "source": [
    "df['reg_platform'] = df['reg_platform'].str.replace('Windows', 'Site')"
   ]
  },
  {
   "cell_type": "code",
   "execution_count": 7,
   "metadata": {
    "collapsed": true
   },
   "outputs": [],
   "source": [
    "cfn = ['Отсутствует ICM', 'Тип ICM не указан', 'CPM', 'CPA', 'direct', 'organic', 'smm']\n",
    "\n",
    "no_icm = \"Отсутствует|нет в справочнике\"\n",
    "no_type = \"не указан\"\n",
    "cpm = \"CPM\"\n",
    "cpa = \"CPA\"\n",
    "direct = \"direct|Email|seo\"\n",
    "organic = \"organic|other\"\n",
    "smm = \"smm\"\n",
    "\n",
    "conditions = [\n",
    "    (df['channel_final_name'].str.contains(no_icm)),\n",
    "    (df['channel_final_name'].str.contains(no_type)),\n",
    "    (df['channel_final_name'].str.contains(cpm)),\n",
    "    (df['channel_final_name'].str.contains(cpa)),\n",
    "    (df['channel_final_name'].str.contains(direct)),\n",
    "    (df['channel_final_name'].str.contains(organic)),\n",
    "    (df['channel_final_name'].str.contains(smm))\n",
    "]\n",
    "\n",
    "df['channel'] = np.select(conditions, cfn, default='other')"
   ]
  },
  {
   "cell_type": "code",
   "execution_count": 8,
   "metadata": {
    "collapsed": true
   },
   "outputs": [],
   "source": [
    "df = df.drop(columns=['channel_final_name', 'uid', 'id', 'first_bet_date'])"
   ]
  },
  {
   "cell_type": "code",
   "execution_count": 9,
   "metadata": {
    "collapsed": true
   },
   "outputs": [],
   "source": [
    "df['fbt_turnover'] = df['m_turnover'] / df['first_bet_sum']"
   ]
  },
  {
   "cell_type": "code",
   "execution_count": 20,
   "metadata": {
    "collapsed": true
   },
   "outputs": [],
   "source": [
    "df['identifier'] = df.index"
   ]
  },
  {
   "cell_type": "code",
   "execution_count": 11,
   "metadata": {
    "collapsed": true
   },
   "outputs": [],
   "source": [
    "df['revenue_class'] = pd.cut(df['revenue'], bins=[-float('inf'), 0, 10000, 50000, float('inf')], labels=[0, 1, 2, 3])\n"
   ]
  },
  {
   "cell_type": "code",
   "execution_count": null,
   "metadata": {
    "collapsed": true
   },
   "outputs": [],
   "source": [
    "columns_to_winsorize = ['revenue']\n",
    "\n",
    "for col in columns_to_winsorize:\n",
    "    df[col] = winsorize(df[col], limits=[0.007, 0.007])"
   ]
  },
  {
   "cell_type": "code",
   "execution_count": 13,
   "metadata": {},
   "outputs": [
    {
     "name": "stdout",
     "output_type": "stream",
     "text": [
      "947769.59 -164442.6\n"
     ]
    }
   ],
   "source": [
    "print(df['revenue'].max(), df['revenue'].min())"
   ]
  },
  {
   "cell_type": "code",
   "execution_count": 14,
   "metadata": {},
   "outputs": [
    {
     "data": {
      "text/html": [
       "<div>\n",
       "<style scoped>\n",
       "    .dataframe tbody tr th:only-of-type {\n",
       "        vertical-align: middle;\n",
       "    }\n",
       "\n",
       "    .dataframe tbody tr th {\n",
       "        vertical-align: top;\n",
       "    }\n",
       "\n",
       "    .dataframe thead th {\n",
       "        text-align: right;\n",
       "    }\n",
       "</style>\n",
       "<table border=\"1\" class=\"dataframe\">\n",
       "  <thead>\n",
       "    <tr style=\"text-align: right;\">\n",
       "      <th></th>\n",
       "      <th>reg_platform</th>\n",
       "      <th>used_promo</th>\n",
       "      <th>revenue</th>\n",
       "      <th>first_bet_sum</th>\n",
       "      <th>m_win_cnt_bet</th>\n",
       "      <th>m_lose_cnt_bet</th>\n",
       "      <th>m_turnover</th>\n",
       "      <th>m_revenue</th>\n",
       "      <th>m_sum_dep</th>\n",
       "      <th>m_sum_out</th>\n",
       "      <th>m_cnt_dep</th>\n",
       "      <th>max_wins</th>\n",
       "      <th>first_day</th>\n",
       "      <th>channel</th>\n",
       "      <th>fbt_turnover</th>\n",
       "      <th>identifier</th>\n",
       "      <th>revenue_class</th>\n",
       "    </tr>\n",
       "  </thead>\n",
       "  <tbody>\n",
       "    <tr>\n",
       "      <th>0</th>\n",
       "      <td>MobileSite</td>\n",
       "      <td>0</td>\n",
       "      <td>131777.27</td>\n",
       "      <td>2000.0</td>\n",
       "      <td>43.0</td>\n",
       "      <td>140.0</td>\n",
       "      <td>217124.41</td>\n",
       "      <td>131777.27</td>\n",
       "      <td>161959.0</td>\n",
       "      <td>30181.0</td>\n",
       "      <td>69.0</td>\n",
       "      <td>1</td>\n",
       "      <td>5</td>\n",
       "      <td>direct</td>\n",
       "      <td>108.562205</td>\n",
       "      <td>0</td>\n",
       "      <td>3</td>\n",
       "    </tr>\n",
       "    <tr>\n",
       "      <th>1</th>\n",
       "      <td>MobileSite</td>\n",
       "      <td>1</td>\n",
       "      <td>22545.00</td>\n",
       "      <td>3000.0</td>\n",
       "      <td>15.0</td>\n",
       "      <td>53.0</td>\n",
       "      <td>86176.50</td>\n",
       "      <td>22545.00</td>\n",
       "      <td>61305.0</td>\n",
       "      <td>38760.0</td>\n",
       "      <td>22.0</td>\n",
       "      <td>1</td>\n",
       "      <td>3</td>\n",
       "      <td>CPA</td>\n",
       "      <td>28.725500</td>\n",
       "      <td>1</td>\n",
       "      <td>2</td>\n",
       "    </tr>\n",
       "    <tr>\n",
       "      <th>2</th>\n",
       "      <td>IOS</td>\n",
       "      <td>1</td>\n",
       "      <td>2000.00</td>\n",
       "      <td>2000.0</td>\n",
       "      <td>0.0</td>\n",
       "      <td>1.0</td>\n",
       "      <td>2000.00</td>\n",
       "      <td>2000.00</td>\n",
       "      <td>2000.0</td>\n",
       "      <td>0.0</td>\n",
       "      <td>1.0</td>\n",
       "      <td>0</td>\n",
       "      <td>2</td>\n",
       "      <td>CPM</td>\n",
       "      <td>1.000000</td>\n",
       "      <td>2</td>\n",
       "      <td>1</td>\n",
       "    </tr>\n",
       "    <tr>\n",
       "      <th>3</th>\n",
       "      <td>MobileSite</td>\n",
       "      <td>0</td>\n",
       "      <td>4999.79</td>\n",
       "      <td>500.0</td>\n",
       "      <td>3.0</td>\n",
       "      <td>7.0</td>\n",
       "      <td>8500.00</td>\n",
       "      <td>4985.00</td>\n",
       "      <td>5000.0</td>\n",
       "      <td>0.0</td>\n",
       "      <td>1.0</td>\n",
       "      <td>1</td>\n",
       "      <td>5</td>\n",
       "      <td>direct</td>\n",
       "      <td>17.000000</td>\n",
       "      <td>3</td>\n",
       "      <td>1</td>\n",
       "    </tr>\n",
       "    <tr>\n",
       "      <th>4</th>\n",
       "      <td>IOS</td>\n",
       "      <td>1</td>\n",
       "      <td>214100.00</td>\n",
       "      <td>100.0</td>\n",
       "      <td>0.0</td>\n",
       "      <td>1.0</td>\n",
       "      <td>100.00</td>\n",
       "      <td>100.00</td>\n",
       "      <td>100.0</td>\n",
       "      <td>0.0</td>\n",
       "      <td>1.0</td>\n",
       "      <td>0</td>\n",
       "      <td>4</td>\n",
       "      <td>Отсутствует ICM</td>\n",
       "      <td>1.000000</td>\n",
       "      <td>4</td>\n",
       "      <td>3</td>\n",
       "    </tr>\n",
       "  </tbody>\n",
       "</table>\n",
       "</div>"
      ],
      "text/plain": [
       "  reg_platform  used_promo    revenue  first_bet_sum  m_win_cnt_bet  \\\n",
       "0   MobileSite           0  131777.27         2000.0           43.0   \n",
       "1   MobileSite           1   22545.00         3000.0           15.0   \n",
       "2          IOS           1    2000.00         2000.0            0.0   \n",
       "3   MobileSite           0    4999.79          500.0            3.0   \n",
       "4          IOS           1  214100.00          100.0            0.0   \n",
       "\n",
       "   m_lose_cnt_bet  m_turnover  m_revenue  m_sum_dep  m_sum_out  m_cnt_dep  \\\n",
       "0           140.0   217124.41  131777.27   161959.0    30181.0       69.0   \n",
       "1            53.0    86176.50   22545.00    61305.0    38760.0       22.0   \n",
       "2             1.0     2000.00    2000.00     2000.0        0.0        1.0   \n",
       "3             7.0     8500.00    4985.00     5000.0        0.0        1.0   \n",
       "4             1.0      100.00     100.00      100.0        0.0        1.0   \n",
       "\n",
       "   max_wins  first_day          channel  fbt_turnover  identifier  \\\n",
       "0         1          5           direct    108.562205           0   \n",
       "1         1          3              CPA     28.725500           1   \n",
       "2         0          2              CPM      1.000000           2   \n",
       "3         1          5           direct     17.000000           3   \n",
       "4         0          4  Отсутствует ICM      1.000000           4   \n",
       "\n",
       "  revenue_class  \n",
       "0             3  \n",
       "1             2  \n",
       "2             1  \n",
       "3             1  \n",
       "4             3  "
      ]
     },
     "execution_count": 14,
     "metadata": {},
     "output_type": "execute_result"
    }
   ],
   "source": [
    "df.head()"
   ]
  },
  {
   "cell_type": "code",
   "execution_count": 21,
   "metadata": {
    "collapsed": true
   },
   "outputs": [],
   "source": [
    "X = df.drop(columns=['revenue', 'revenue_class'])\n",
    "y = df['revenue_class']"
   ]
  },
  {
   "cell_type": "code",
   "execution_count": 22,
   "metadata": {
    "collapsed": true
   },
   "outputs": [],
   "source": [
    "# Save the indices to reproduce the dataset with predicted values later.\n",
    "X_identifiers = X['identifier']\n",
    "X = X.drop(columns=['identifier'])"
   ]
  },
  {
   "cell_type": "code",
   "execution_count": 16,
   "metadata": {
    "collapsed": true
   },
   "outputs": [],
   "source": [
    "# loading pre-made preprocessor\n",
    "with open('preprocessor_class.pkl', 'rb') as f:\n",
    "    preprocessor = pickle.load(f)"
   ]
  },
  {
   "cell_type": "code",
   "execution_count": 17,
   "metadata": {
    "collapsed": true
   },
   "outputs": [],
   "source": [
    "# Loading pre-trained model\n",
    "with open('best_classifier_pipeline.pkl', 'rb') as f:\n",
    "    best_model = pickle.load(f)\n",
    "\n",
    "# Making prediction on new data\n",
    "X_new = X\n",
    "y_pred_class = best_model.predict(X_new)  # Preprocessing and predictions"
   ]
  },
  {
   "cell_type": "code",
   "execution_count": 18,
   "metadata": {},
   "outputs": [
    {
     "name": "stdout",
     "output_type": "stream",
     "text": [
      "Classification Accuracy: 0.8832866479925303\n"
     ]
    }
   ],
   "source": [
    "print(\"Classification Accuracy:\", accuracy_score(y, y_pred_class))"
   ]
  },
  {
   "cell_type": "code",
   "execution_count": 23,
   "metadata": {
    "collapsed": true
   },
   "outputs": [],
   "source": [
    "# merge the DataFrame with the predicted classes and the actual classes to evaluate the errors.\n",
    "predictions_df = pd.DataFrame({\n",
    "    'identifier': X_identifiers,\n",
    "    'Predicted_Revenue': y_pred_class,\n",
    "    'Actual_Revenue': y.values\n",
    "})\n",
    "\n",
    "df_with_predictions = df.merge(predictions_df, on='identifier', how='left')"
   ]
  },
  {
   "cell_type": "code",
   "execution_count": 91,
   "metadata": {
    "collapsed": true
   },
   "outputs": [],
   "source": [
    "df_with_predictions.to_excel('classes_df.xlsx', index=False)"
   ]
  },
  {
   "cell_type": "code",
   "execution_count": null,
   "metadata": {
    "collapsed": true
   },
   "outputs": [],
   "source": [
    "class_0_df = df_with_predictions[df_with_predictions['Predicted_Revenue'] == 1]\n",
    "class_0_df = class_0_df.drop(columns=['Predicted_Revenue'])\n",
    "class_0_df.to_csv('predicted_class_0_df.csv', index=False)"
   ]
  }
 ],
 "metadata": {
  "kernelspec": {
   "display_name": "Python 3",
   "language": "python",
   "name": "python3"
  },
  "language_info": {
   "codemirror_mode": {
    "name": "ipython",
    "version": 3
   },
   "file_extension": ".py",
   "mimetype": "text/x-python",
   "name": "python",
   "nbconvert_exporter": "python",
   "pygments_lexer": "ipython3",
   "version": "3.6.3"
  }
 },
 "nbformat": 4,
 "nbformat_minor": 2
}
